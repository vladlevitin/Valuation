{
 "cells": [
  {
   "cell_type": "code",
   "execution_count": 4,
   "metadata": {},
   "outputs": [
    {
     "name": "stdout",
     "output_type": "stream",
     "text": [
      "Company Value: 19875000000.0\n"
     ]
    }
   ],
   "source": [
    "import json\n",
    "\n",
    "data = json.load(open('elkem_data/json/all_years.json'))\n",
    "\n",
    "def calculate_company_value(data):\n",
    "    years = sorted(data.keys())\n",
    "    net_incomes = []\n",
    "    total_assets = []\n",
    "    total_equity = []\n",
    "    \n",
    "    # only keep the last 5 years\n",
    "    \n",
    "    years = years[-1:]\n",
    "\n",
    "    for year in years:\n",
    "        income_statement = data[year][\"income_statement\"]\n",
    "        balance_sheet = data[year][\"balance_sheet\"]\n",
    "\n",
    "        net_income = income_statement[\"\\u00c5rsresultat\"]\n",
    "        net_incomes.append(net_income)\n",
    "\n",
    "        assets = balance_sheet[\"SUM EIENDELER\"]\n",
    "        total_assets.append(assets)\n",
    "\n",
    "        equity = balance_sheet[\"Sum egenkapital\"]\n",
    "        total_equity.append(equity)\n",
    "\n",
    "    avg_net_income = sum(net_incomes) / len(net_incomes)\n",
    "    avg_total_assets = sum(total_assets) / len(total_assets)\n",
    "    avg_total_equity = sum(total_equity) / len(total_equity)\n",
    "\n",
    "    # Calculate Return on Assets (ROA)\n",
    "    roa = avg_net_income / avg_total_assets\n",
    "\n",
    "    # Calculate Return on Equity (ROE)\n",
    "    roe = avg_net_income / avg_total_equity\n",
    "\n",
    "    # Calculate Price to Earnings Ratio (P/E) using average ROE\n",
    "    pe_ratio = 1 / roe\n",
    "\n",
    "    # Calculate company value using P/E Ratio and average net income\n",
    "    company_value = pe_ratio * avg_net_income\n",
    "\n",
    "    return company_value\n",
    "\n",
    "company_value = calculate_company_value(data)\n",
    "print(\"Company Value:\", company_value)\n"
   ]
  },
  {
   "cell_type": "code",
   "execution_count": 12,
   "metadata": {},
   "outputs": [
    {
     "name": "stdout",
     "output_type": "stream",
     "text": [
      "2014: {'EBIT': 611416000, 'EBITDA': 1005763000, 'P/E': 28.930810067954397, 'P/B': 1.1418858221515115e-10, 'P/S': 1.1679741943109613e-10}\n",
      "2015: {'EBIT': 1465013000, 'EBITDA': 2139396000, 'P/E': 6.632668956366934, 'P/B': 1.5825894898965904e-10, 'P/S': 6.963107991607783e-11}\n",
      "2016: {'EBIT': 940629000, 'EBITDA': 1658410000, 'P/E': 9.840827263384123, 'P/B': 1.3406547382358217e-10, 'P/S': 7.11977027064454e-11}\n",
      "2017: {'EBIT': 1354948000, 'EBITDA': 2130971000, 'P/E': 8.235322836326548, 'P/B': 1.2000678758390575e-10, 'P/S': 6.082024370185089e-11}\n",
      "2018: {'EBIT': 4142000000, 'EBITDA': 5405000000, 'P/E': 4.0754380754380755, 'P/B': 7.287567409998543e-11, 'P/S': 3.902439024390244e-11}\n",
      "2019: {'EBIT': 1384000000, 'EBITDA': 2840000000, 'P/E': 14.439241917502788, 'P/B': 7.720815318097591e-11, 'P/S': 4.4951901465431986e-11}\n",
      "2020: {'EBIT': 827000000, 'EBITDA': 2537000000, 'P/E': 45.44964028776978, 'P/B': 7.914523149980213e-11, 'P/S': 4.162330905306972e-11}\n"
     ]
    },
    {
     "ename": "KeyError",
     "evalue": "'Avskrivning på varige driftsmidler og immaterielle eiendeler'",
     "output_type": "error",
     "traceback": [
      "\u001b[1;31m---------------------------------------------------------------------------\u001b[0m",
      "\u001b[1;31mKeyError\u001b[0m                                  Traceback (most recent call last)",
      "Cell \u001b[1;32mIn[12], line 31\u001b[0m\n\u001b[0;32m     22\u001b[0m     \u001b[39mreturn\u001b[39;00m {\n\u001b[0;32m     23\u001b[0m         \u001b[39m\"\u001b[39m\u001b[39mEBIT\u001b[39m\u001b[39m\"\u001b[39m: ebit,\n\u001b[0;32m     24\u001b[0m         \u001b[39m\"\u001b[39m\u001b[39mEBITDA\u001b[39m\u001b[39m\"\u001b[39m: ebitda,\n\u001b[1;32m   (...)\u001b[0m\n\u001b[0;32m     27\u001b[0m         \u001b[39m\"\u001b[39m\u001b[39mP/S\u001b[39m\u001b[39m\"\u001b[39m: ps_ratio\n\u001b[0;32m     28\u001b[0m     }\n\u001b[0;32m     30\u001b[0m \u001b[39mfor\u001b[39;00m year, year_data \u001b[39min\u001b[39;00m data\u001b[39m.\u001b[39mitems():\n\u001b[1;32m---> 31\u001b[0m     indicators \u001b[39m=\u001b[39m calculate_indicators(year_data)\n\u001b[0;32m     32\u001b[0m     \u001b[39mprint\u001b[39m(\u001b[39mf\u001b[39m\u001b[39m\"\u001b[39m\u001b[39m{\u001b[39;00myear\u001b[39m}\u001b[39;00m\u001b[39m: \u001b[39m\u001b[39m{\u001b[39;00mindicators\u001b[39m}\u001b[39;00m\u001b[39m\"\u001b[39m)\n",
      "Cell \u001b[1;32mIn[12], line 9\u001b[0m, in \u001b[0;36mcalculate_indicators\u001b[1;34m(year_data)\u001b[0m\n\u001b[0;32m      6\u001b[0m balance_sheet \u001b[39m=\u001b[39m year_data[\u001b[39m\"\u001b[39m\u001b[39mbalance_sheet\u001b[39m\u001b[39m\"\u001b[39m]\n\u001b[0;32m      8\u001b[0m ebit \u001b[39m=\u001b[39m income_statement[\u001b[39m\"\u001b[39m\u001b[39mDriftsresultat\u001b[39m\u001b[39m\"\u001b[39m]\n\u001b[1;32m----> 9\u001b[0m ebitda \u001b[39m=\u001b[39m ebit \u001b[39m+\u001b[39m income_statement[\u001b[39m\"\u001b[39;49m\u001b[39mAvskrivning p\u001b[39;49m\u001b[39m\\u00e5\u001b[39;49;00m\u001b[39m varige driftsmidler og immaterielle eiendeler\u001b[39;49m\u001b[39m\"\u001b[39;49m]\n\u001b[0;32m     11\u001b[0m net_income \u001b[39m=\u001b[39m income_statement[\u001b[39m\"\u001b[39m\u001b[39m\\u00c5\u001b[39;00m\u001b[39mrsresultat\u001b[39m\u001b[39m\"\u001b[39m]\n\u001b[0;32m     12\u001b[0m total_equity \u001b[39m=\u001b[39m balance_sheet[\u001b[39m\"\u001b[39m\u001b[39mSum egenkapital\u001b[39m\u001b[39m\"\u001b[39m]\n",
      "\u001b[1;31mKeyError\u001b[0m: 'Avskrivning på varige driftsmidler og immaterielle eiendeler'"
     ]
    }
   ],
   "source": [
    "data = json.load(open('elkem_data/json/all_years.json'))\n",
    "\n",
    "\n",
    "def calculate_indicators(year_data):\n",
    "    income_statement = year_data[\"income_statement\"]\n",
    "    balance_sheet = year_data[\"balance_sheet\"]\n",
    "\n",
    "    ebit = income_statement[\"Driftsresultat\"]\n",
    "    \n",
    "    \n",
    "    ebitda = ebit + income_statement[\"Avskrivning p\\u00e5 varige driftsmidler og immaterielle eiendeler\"]\n",
    "\n",
    "    net_income = income_statement[\"\\u00c5rsresultat\"]\n",
    "    total_equity = balance_sheet[\"Sum egenkapital\"]\n",
    "    pe_ratio = total_equity / net_income\n",
    "\n",
    "    book_value = total_equity\n",
    "    market_price = 1  # You should replace this with the actual market price\n",
    "    pb_ratio = market_price / book_value\n",
    "\n",
    "    revenue = income_statement[\"Salgsinntekt\"]\n",
    "    ps_ratio = market_price / revenue\n",
    "\n",
    "    return {\n",
    "        \"EBIT\": ebit,\n",
    "        \"EBITDA\": ebitda,\n",
    "        \"P/E\": pe_ratio,\n",
    "        \"P/B\": pb_ratio,\n",
    "        \"P/S\": ps_ratio\n",
    "    }\n",
    "\n",
    "for year, year_data in data.items():\n",
    "    \n",
    "    indicators = calculate_indicators(year_data)\n",
    "    print(f\"{year}: {indicators}\")\n"
   ]
  },
  {
   "cell_type": "code",
   "execution_count": null,
   "metadata": {},
   "outputs": [],
   "source": []
  }
 ],
 "metadata": {
  "kernelspec": {
   "display_name": "Python 3",
   "language": "python",
   "name": "python3"
  },
  "language_info": {
   "codemirror_mode": {
    "name": "ipython",
    "version": 3
   },
   "file_extension": ".py",
   "mimetype": "text/x-python",
   "name": "python",
   "nbconvert_exporter": "python",
   "pygments_lexer": "ipython3",
   "version": "3.11.3"
  },
  "orig_nbformat": 4
 },
 "nbformat": 4,
 "nbformat_minor": 2
}
